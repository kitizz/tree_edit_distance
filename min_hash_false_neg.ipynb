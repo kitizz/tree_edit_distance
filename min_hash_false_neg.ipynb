{
 "cells": [
  {
   "attachments": {},
   "cell_type": "markdown",
   "metadata": {},
   "source": [
    "# MinHash Performance\n",
    "\n",
    "Specifically, studying the false negative rates on the MinHash as a function of Set size and \"Universal Set\" size."
   ]
  },
  {
   "cell_type": "code",
   "execution_count": 14,
   "metadata": {},
   "outputs": [],
   "source": [
    "import random\n",
    "\n",
    "\n",
    "def random_set(\n",
    "    *,\n",
    "    min_size: int,\n",
    "    max_size: int,\n",
    "    min_value: int = 0,\n",
    "    max_value: int = 0xFFFFFFFF,\n",
    ") -> set[int]:\n",
    "    return set(random.randint(min_value, max_value) for _ in range(random.randint(min_size, max_size)))\n",
    " \n",
    "def random_change(set_: set[int]) -> set[int]:\n",
    "    new_set = set_.copy()\n",
    "    if random.random() < 0.5 or len(new_set) <= 1:\n",
    "        new_set.add(random.randint(0, 0xFFFFFFFF))\n",
    "    else:\n",
    "        new_set.remove(random.choice(tuple(new_set)))\n",
    "    return new_set"
   ]
  },
  {
   "cell_type": "code",
   "execution_count": 46,
   "metadata": {},
   "outputs": [
    {
     "name": "stdout",
     "output_type": "stream",
     "text": [
      "Max size:  45\n"
     ]
    }
   ],
   "source": [
    "from collections import defaultdict\n",
    "\n",
    "\n",
    "random.seed(2)\n",
    "sets = [random_set(min_size=5, max_size=40) for _ in range(50)]\n",
    "\n",
    "connections: defaultdict[int, list[int]] = defaultdict(list)\n",
    "\n",
    "for i in range(10000):\n",
    "    curr_index = random.randint(0, len(sets) - 1)\n",
    "    new_index = len(sets)\n",
    "    sets.append(random_change(sets[curr_index]))\n",
    "    connections[curr_index].append(new_index)\n",
    "    connections[new_index].append(curr_index)\n",
    "    \n",
    "print(\"Max size: \", max(len(s) for s in sets))\n",
    "\n"
   ]
  },
  {
   "cell_type": "code",
   "execution_count": 26,
   "metadata": {},
   "outputs": [
    {
     "data": {
      "text/plain": [
       "[449, 1315, 100, 876, 2318, 701, 30]"
      ]
     },
     "execution_count": 26,
     "metadata": {},
     "output_type": "execute_result"
    }
   ],
   "source": [
    "def find_nearest(set_index: int, radius: int) -> list[int]:\n",
    "    visited: set[int] = set()\n",
    "    queue: list[int] = [set_index]\n",
    "    for _ in range(radius + 1):\n",
    "        new_queue = []\n",
    "        for index in queue:\n",
    "            visited.add(index)\n",
    "            new_queue.extend(connections[index])\n",
    "        queue = new_queue\n",
    "    return list(visited)\n"
   ]
  },
  {
   "cell_type": "code",
   "execution_count": 55,
   "metadata": {},
   "outputs": [],
   "source": [
    "from min_hash import MinHasher, MinHash, compare\n",
    "\n",
    "hasher = MinHasher(50)\n",
    "\n",
    "hashes: list[MinHash] = [hasher(s) for s in sets]\n"
   ]
  },
  {
   "cell_type": "code",
   "execution_count": 41,
   "metadata": {},
   "outputs": [
    {
     "name": "stdout",
     "output_type": "stream",
     "text": [
      "0.6897816754331683\n"
     ]
    }
   ],
   "source": [
    "def threshold_for_radius(set_index: int, radius: int) -> float:\n",
    "    nearest = find_nearest(set_index, radius)\n",
    "    target_hash = hashes[set_index]\n",
    "    min_threshold = 0.0\n",
    "    max_threshold = 1.0\n",
    "    \n",
    "    while max_threshold - min_threshold > 0.001:\n",
    "        threshold = (min_threshold + max_threshold) / 2\n",
    "        if all(compare(target_hash, hashes[i]) >= threshold for i in nearest):\n",
    "            min_threshold = threshold\n",
    "        else:\n",
    "            max_threshold = threshold\n",
    "            \n",
    "    return min_threshold\n",
    "\n",
    "def mean(values: list[float]) -> float:\n",
    "    return sum(values) / len(values)\n"
   ]
  },
  {
   "cell_type": "code",
   "execution_count": 56,
   "metadata": {},
   "outputs": [
    {
     "data": {
      "text/plain": [
       "(array([  62.,    0.,   11.,   83.,   67.,   73.,  125.,  155.,  178.,\n",
       "         189.,  452.,  359.,  699.,  814.,  665.,  972., 2278., 1668.,\n",
       "        1120.,   80.]),\n",
       " array([0.        , 0.04995117, 0.09990234, 0.14985352, 0.19980469,\n",
       "        0.24975586, 0.29970703, 0.3496582 , 0.39960937, 0.44956055,\n",
       "        0.49951172, 0.54946289, 0.59941406, 0.64936523, 0.69931641,\n",
       "        0.74926758, 0.79921875, 0.84916992, 0.89912109, 0.94907227,\n",
       "        0.99902344]),\n",
       " <BarContainer object of 20 artists>)"
      ]
     },
     "execution_count": 56,
     "metadata": {},
     "output_type": "execute_result"
    },
    {
     "data": {
      "image/png": "[encoded data removed]",
      "text/plain": [
       "<Figure size 640x480 with 1 Axes>"
      ]
     },
     "metadata": {},
     "output_type": "display_data"
    }
   ],
   "source": [
    "import matplotlib.pyplot as plt\n",
    "\n",
    "thresholds = [threshold_for_radius(index, 3) for index in range(len(sets))]\n",
    "\n",
    "plt.hist(thresholds, bins=20)"
   ]
  },
  {
   "attachments": {},
   "cell_type": "markdown",
   "metadata": {},
   "source": [
    "From the histogram, we can see that there isn't really a threshold or MinHash size that reduces the chance of false negatives once the number of element changes exceeds 2."
   ]
  }
 ],
 "metadata": {
  "kernelspec": {
   "display_name": "ted-kitizz",
   "language": "python",
   "name": "python3"
  },
  "language_info": {
   "codemirror_mode": {
    "name": "ipython",
    "version": 3
   },
   "file_extension": ".py",
   "mimetype": "text/x-python",
   "name": "python",
   "nbconvert_exporter": "python",
   "pygments_lexer": "ipython3",
   "version": "3.11.0"
  },
  "orig_nbformat": 4,
  "vscode": {
   "interpreter": {
    "hash": "fc1f25efa001f70cce27f2f71600340dbef03b8038c81b66edea0205e32c76b0"
   }
  }
 },
 "nbformat": 4,
 "nbformat_minor": 2
}
